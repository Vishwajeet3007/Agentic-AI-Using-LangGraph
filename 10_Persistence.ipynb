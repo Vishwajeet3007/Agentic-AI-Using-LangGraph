{
 "cells": [
  {
   "cell_type": "code",
   "execution_count": 21,
   "id": "5070b86b",
   "metadata": {},
   "outputs": [],
   "source": [
    "from langgraph.graph import StateGraph,START,END\n",
    "from typing import TypedDict\n",
    "from langchain_openai import ChatOpenAI\n",
    "from dotenv import load_dotenv\n",
    "from langgraph.checkpoint.memory import InMemorySaver"
   ]
  },
  {
   "cell_type": "code",
   "execution_count": 22,
   "id": "ac0512ca",
   "metadata": {},
   "outputs": [
    {
     "data": {
      "text/plain": [
       "True"
      ]
     },
     "execution_count": 22,
     "metadata": {},
     "output_type": "execute_result"
    }
   ],
   "source": [
    "load_dotenv()\n"
   ]
  },
  {
   "cell_type": "code",
   "execution_count": 23,
   "id": "be1b547a",
   "metadata": {},
   "outputs": [],
   "source": [
    "llm = ChatOpenAI()"
   ]
  },
  {
   "cell_type": "code",
   "execution_count": 24,
   "id": "3d40707a",
   "metadata": {},
   "outputs": [],
   "source": [
    "class JokeState(TypedDict):\n",
    "    topic : str\n",
    "    joke : str\n",
    "    expalnation : str"
   ]
  },
  {
   "cell_type": "code",
   "execution_count": 25,
   "id": "28d2aac4",
   "metadata": {},
   "outputs": [],
   "source": [
    "def generate_joke(state:JokeState):\n",
    "    prompt = f'Genrate a joke on the topic {state['topic']}'\n",
    "    response = llm.invoke(prompt).content\n",
    "    return {'joke':response}"
   ]
  },
  {
   "cell_type": "code",
   "execution_count": 26,
   "id": "bbb9e7cf",
   "metadata": {},
   "outputs": [],
   "source": [
    "def generate_expalanation(state:JokeState):\n",
    "    prompt = f\"Write an explanation for the joke - {state['joke']}\"\n",
    "    response = llm.invoke(prompt).content\n",
    "    return {'explanation':response}"
   ]
  },
  {
   "cell_type": "code",
   "execution_count": 27,
   "id": "b823a99b",
   "metadata": {},
   "outputs": [],
   "source": [
    "graph = StateGraph(JokeState)\n",
    "\n",
    "graph.add_node('generate_joke',generate_joke)\n",
    "graph.add_node('generate_expalanation',generate_expalanation)\n",
    "\n",
    "graph.add_edge(START,'generate_joke')\n",
    "graph.add_edge('generate_joke','generate_expalanation')\n",
    "graph.add_edge('generate_expalanation',END)\n",
    "\n",
    "checkpointer = InMemorySaver()\n",
    "\n",
    "workflow = graph.compile(checkpointer=checkpointer)"
   ]
  },
  {
   "cell_type": "code",
   "execution_count": 28,
   "id": "960f46f8",
   "metadata": {},
   "outputs": [
    {
     "data": {
      "image/png": "[encoded data removed]",
      "text/plain": [
       "<langgraph.graph.state.CompiledStateGraph object at 0x000001CCB33CA210>"
      ]
     },
     "execution_count": 28,
     "metadata": {},
     "output_type": "execute_result"
    }
   ],
   "source": [
    "workflow"
   ]
  },
  {
   "cell_type": "code",
   "execution_count": null,
   "id": "16392320",
   "metadata": {},
   "outputs": [],
   "source": [
    "config1 = {\"configurable\":{'thread_id':1}}\n",
    "workflow.invoke({'topic':'pizza'},config=config1)"
   ]
  },
  {
   "cell_type": "code",
   "execution_count": 30,
   "id": "0130dd7a",
   "metadata": {},
   "outputs": [
    {
     "data": {
      "text/plain": [
       "StateSnapshot(values={'topic': 'pizza'}, next=('generate_joke',), config={'configurable': {'thread_id': '1', 'checkpoint_ns': '', 'checkpoint_id': '1f06e946-0307-683c-8000-5fd3e404777e'}}, metadata={'source': 'loop', 'step': 0, 'parents': {}}, created_at='2025-08-01T04:59:59.648915+00:00', parent_config={'configurable': {'thread_id': '1', 'checkpoint_ns': '', 'checkpoint_id': '1f06e946-02ff-6ead-bfff-ce7d61e96d20'}}, tasks=(PregelTask(id='8893e285-3890-6a2a-71ee-1b75d8959dab', name='generate_joke', path=('__pregel_pull', 'generate_joke'), error='AuthenticationError(\"Error code: 401 - {\\'error\\': {\\'message\\': \\'Incorrect API key provided: sk-proj-****************************************************************************************************************************************************tc_k. You can find your API key at https://platform.openai.com/account/api-keys.\\', \\'type\\': \\'invalid_request_error\\', \\'param\\': None, \\'code\\': \\'invalid_api_key\\'}}\")', interrupts=(), state=None, result=None),), interrupts=())"
      ]
     },
     "execution_count": 30,
     "metadata": {},
     "output_type": "execute_result"
    }
   ],
   "source": [
    "workflow.get_state(config1)"
   ]
  },
  {
   "cell_type": "code",
   "execution_count": 31,
   "id": "3861384e",
   "metadata": {},
   "outputs": [
    {
     "data": {
      "text/plain": [
       "[StateSnapshot(values={'topic': 'pizza'}, next=('generate_joke',), config={'configurable': {'thread_id': '1', 'checkpoint_ns': '', 'checkpoint_id': '1f06e946-0307-683c-8000-5fd3e404777e'}}, metadata={'source': 'loop', 'step': 0, 'parents': {}}, created_at='2025-08-01T04:59:59.648915+00:00', parent_config={'configurable': {'thread_id': '1', 'checkpoint_ns': '', 'checkpoint_id': '1f06e946-02ff-6ead-bfff-ce7d61e96d20'}}, tasks=(PregelTask(id='8893e285-3890-6a2a-71ee-1b75d8959dab', name='generate_joke', path=('__pregel_pull', 'generate_joke'), error='AuthenticationError(\"Error code: 401 - {\\'error\\': {\\'message\\': \\'Incorrect API key provided: sk-proj-****************************************************************************************************************************************************tc_k. You can find your API key at https://platform.openai.com/account/api-keys.\\', \\'type\\': \\'invalid_request_error\\', \\'param\\': None, \\'code\\': \\'invalid_api_key\\'}}\")', interrupts=(), state=None, result=None),), interrupts=()),\n",
       " StateSnapshot(values={}, next=('__start__',), config={'configurable': {'thread_id': '1', 'checkpoint_ns': '', 'checkpoint_id': '1f06e946-02ff-6ead-bfff-ce7d61e96d20'}}, metadata={'source': 'input', 'step': -1, 'parents': {}}, created_at='2025-08-01T04:59:59.645852+00:00', parent_config=None, tasks=(PregelTask(id='9b1827cc-ab91-bf9b-01b5-b33844d90ad8', name='__start__', path=('__pregel_pull', '__start__'), error=None, interrupts=(), state=None, result={'topic': 'pizza'}),), interrupts=())]"
      ]
     },
     "execution_count": 31,
     "metadata": {},
     "output_type": "execute_result"
    }
   ],
   "source": [
    "list(workflow.get_state_history(config1))"
   ]
  },
  {
   "cell_type": "code",
   "execution_count": null,
   "id": "c38cacf0",
   "metadata": {},
   "outputs": [],
   "source": [
    "config2 = {'configurable' : {'thread_id':2}}\n",
    "workflow.invoke({'topic':'pasta'},config=config2)"
   ]
  },
  {
   "cell_type": "code",
   "execution_count": 33,
   "id": "c48fa167",
   "metadata": {},
   "outputs": [
    {
     "data": {
      "text/plain": [
       "StateSnapshot(values={'topic': 'pasta'}, next=('generate_joke',), config={'configurable': {'thread_id': '2', 'checkpoint_ns': '', 'checkpoint_id': '1f06e94c-3818-6e0b-8000-582ac709d9f1'}}, metadata={'source': 'loop', 'step': 0, 'parents': {}}, created_at='2025-08-01T05:02:46.274804+00:00', parent_config={'configurable': {'thread_id': '2', 'checkpoint_ns': '', 'checkpoint_id': '1f06e94c-3816-66b1-bfff-32ff1acad443'}}, tasks=(PregelTask(id='398d5b6d-ea9c-827c-04d6-31033c20e23a', name='generate_joke', path=('__pregel_pull', 'generate_joke'), error='AuthenticationError(\"Error code: 401 - {\\'error\\': {\\'message\\': \\'Incorrect API key provided: sk-proj-****************************************************************************************************************************************************tc_k. You can find your API key at https://platform.openai.com/account/api-keys.\\', \\'type\\': \\'invalid_request_error\\', \\'param\\': None, \\'code\\': \\'invalid_api_key\\'}}\")', interrupts=(), state=None, result=None),), interrupts=())"
      ]
     },
     "execution_count": 33,
     "metadata": {},
     "output_type": "execute_result"
    }
   ],
   "source": [
    "workflow.get_state(config2)"
   ]
  },
  {
   "cell_type": "code",
   "execution_count": 34,
   "id": "cc9fe1ca",
   "metadata": {},
   "outputs": [
    {
     "data": {
      "text/plain": [
       "[StateSnapshot(values={'topic': 'pizza'}, next=('generate_joke',), config={'configurable': {'thread_id': '1', 'checkpoint_ns': '', 'checkpoint_id': '1f06e946-0307-683c-8000-5fd3e404777e'}}, metadata={'source': 'loop', 'step': 0, 'parents': {}}, created_at='2025-08-01T04:59:59.648915+00:00', parent_config={'configurable': {'thread_id': '1', 'checkpoint_ns': '', 'checkpoint_id': '1f06e946-02ff-6ead-bfff-ce7d61e96d20'}}, tasks=(PregelTask(id='8893e285-3890-6a2a-71ee-1b75d8959dab', name='generate_joke', path=('__pregel_pull', 'generate_joke'), error='AuthenticationError(\"Error code: 401 - {\\'error\\': {\\'message\\': \\'Incorrect API key provided: sk-proj-****************************************************************************************************************************************************tc_k. You can find your API key at https://platform.openai.com/account/api-keys.\\', \\'type\\': \\'invalid_request_error\\', \\'param\\': None, \\'code\\': \\'invalid_api_key\\'}}\")', interrupts=(), state=None, result=None),), interrupts=()),\n",
       " StateSnapshot(values={}, next=('__start__',), config={'configurable': {'thread_id': '1', 'checkpoint_ns': '', 'checkpoint_id': '1f06e946-02ff-6ead-bfff-ce7d61e96d20'}}, metadata={'source': 'input', 'step': -1, 'parents': {}}, created_at='2025-08-01T04:59:59.645852+00:00', parent_config=None, tasks=(PregelTask(id='9b1827cc-ab91-bf9b-01b5-b33844d90ad8', name='__start__', path=('__pregel_pull', '__start__'), error=None, interrupts=(), state=None, result={'topic': 'pizza'}),), interrupts=())]"
      ]
     },
     "execution_count": 34,
     "metadata": {},
     "output_type": "execute_result"
    }
   ],
   "source": [
    "\n",
    "list(workflow.get_state_history(config1))"
   ]
  },
  {
   "cell_type": "markdown",
   "id": "a37db8d1",
   "metadata": {},
   "source": [
    "Time Travel"
   ]
  },
  {
   "cell_type": "code",
   "execution_count": 35,
   "id": "f01f9699",
   "metadata": {},
   "outputs": [
    {
     "data": {
      "text/plain": [
       "StateSnapshot(values={'topic': 'pizza'}, next=('generate_joke',), config={'configurable': {'thread_id': '1', 'checkpoint_ns': '', 'checkpoint_id': '1f06e946-0307-683c-8000-5fd3e404777e'}}, metadata={'source': 'loop', 'step': 0, 'parents': {}}, created_at='2025-08-01T04:59:59.648915+00:00', parent_config={'configurable': {'thread_id': '1', 'checkpoint_ns': '', 'checkpoint_id': '1f06e946-02ff-6ead-bfff-ce7d61e96d20'}}, tasks=(PregelTask(id='8893e285-3890-6a2a-71ee-1b75d8959dab', name='generate_joke', path=('__pregel_pull', 'generate_joke'), error='AuthenticationError(\"Error code: 401 - {\\'error\\': {\\'message\\': \\'Incorrect API key provided: sk-proj-****************************************************************************************************************************************************tc_k. You can find your API key at https://platform.openai.com/account/api-keys.\\', \\'type\\': \\'invalid_request_error\\', \\'param\\': None, \\'code\\': \\'invalid_api_key\\'}}\")', interrupts=(), state=None, result=None),), interrupts=())"
      ]
     },
     "execution_count": 35,
     "metadata": {},
     "output_type": "execute_result"
    }
   ],
   "source": [
    "workflow.get_state({'configurable':{'thread_id':\"1\",'checkpointer_id':\"1f06e946-02ff-6ead-bfff-ce7d61e96d20\"}})"
   ]
  },
  {
   "cell_type": "code",
   "execution_count": null,
   "id": "2b69afe2",
   "metadata": {},
   "outputs": [],
   "source": [
    "\n",
    "workflow.invoke(None, {\"configurable\": {\"thread_id\": \"1\", \"checkpoint_id\": \"1f06e946-02ff-6ead-bfff-ce7d61e96d205\"}})"
   ]
  },
  {
   "cell_type": "code",
   "execution_count": 38,
   "id": "86489ef9",
   "metadata": {},
   "outputs": [
    {
     "data": {
      "text/plain": [
       "[StateSnapshot(values={'topic': 'pizza'}, next=('generate_joke',), config={'configurable': {'thread_id': '1', 'checkpoint_ns': '', 'checkpoint_id': '1f06e946-0307-683c-8000-5fd3e404777e'}}, metadata={'source': 'loop', 'step': 0, 'parents': {}}, created_at='2025-08-01T04:59:59.648915+00:00', parent_config={'configurable': {'thread_id': '1', 'checkpoint_ns': '', 'checkpoint_id': '1f06e946-02ff-6ead-bfff-ce7d61e96d20'}}, tasks=(PregelTask(id='8893e285-3890-6a2a-71ee-1b75d8959dab', name='generate_joke', path=('__pregel_pull', 'generate_joke'), error='AuthenticationError(\"Error code: 401 - {\\'error\\': {\\'message\\': \\'Incorrect API key provided: sk-proj-****************************************************************************************************************************************************tc_k. You can find your API key at https://platform.openai.com/account/api-keys.\\', \\'type\\': \\'invalid_request_error\\', \\'param\\': None, \\'code\\': \\'invalid_api_key\\'}}\")', interrupts=(), state=None, result=None),), interrupts=()),\n",
       " StateSnapshot(values={}, next=('__start__',), config={'configurable': {'thread_id': '1', 'checkpoint_ns': '', 'checkpoint_id': '1f06e946-02ff-6ead-bfff-ce7d61e96d20'}}, metadata={'source': 'input', 'step': -1, 'parents': {}}, created_at='2025-08-01T04:59:59.645852+00:00', parent_config=None, tasks=(PregelTask(id='9b1827cc-ab91-bf9b-01b5-b33844d90ad8', name='__start__', path=('__pregel_pull', '__start__'), error=None, interrupts=(), state=None, result={'topic': 'pizza'}),), interrupts=())]"
      ]
     },
     "execution_count": 38,
     "metadata": {},
     "output_type": "execute_result"
    }
   ],
   "source": [
    "list(workflow.get_state_history(config1))"
   ]
  },
  {
   "cell_type": "markdown",
   "id": "d0eab628",
   "metadata": {},
   "source": [
    "Updating State"
   ]
  },
  {
   "cell_type": "code",
   "execution_count": 41,
   "id": "910c9660",
   "metadata": {},
   "outputs": [
    {
     "data": {
      "text/plain": [
       "{'configurable': {'thread_id': '1',\n",
       "  'checkpoint_ns': '',\n",
       "  'checkpoint_id': '1f06e95a-08e5-6b14-8000-4688c61991a7'}}"
      ]
     },
     "execution_count": 41,
     "metadata": {},
     "output_type": "execute_result"
    }
   ],
   "source": [
    "\n",
    "workflow.update_state({\"configurable\": {\"thread_id\": \"1\", \"checkpoint_id\": \"1f06e946-02ff-6ead-bfff-ce7d61e96d205\", \"checkpoint_ns\": \"\"}}, {'topic':'samosa'})"
   ]
  },
  {
   "cell_type": "code",
   "execution_count": 42,
   "id": "23aec721",
   "metadata": {},
   "outputs": [
    {
     "data": {
      "text/plain": [
       "[StateSnapshot(values={'topic': 'samosa'}, next=('generate_joke',), config={'configurable': {'thread_id': '1', 'checkpoint_ns': '', 'checkpoint_id': '1f06e95a-08e5-6b14-8000-4688c61991a7'}}, metadata={'source': 'update', 'step': 0, 'parents': {}}, created_at='2025-08-01T05:08:57.135177+00:00', parent_config={'configurable': {'thread_id': '1', 'checkpoint_ns': '', 'checkpoint_id': '1f06e946-02ff-6ead-bfff-ce7d61e96d205'}}, tasks=(PregelTask(id='a98c3e5e-95b9-6b5a-d490-e2c363face18', name='generate_joke', path=('__pregel_pull', 'generate_joke'), error=None, interrupts=(), state=None, result=None),), interrupts=()),\n",
       " StateSnapshot(values={'topic': 'samosa'}, next=('generate_joke',), config={'configurable': {'thread_id': '1', 'checkpoint_ns': '', 'checkpoint_id': '1f06e959-0b6e-652f-8000-3c32c78cfb4a'}}, metadata={'source': 'update', 'step': 0, 'parents': {}}, created_at='2025-08-01T05:08:30.557309+00:00', parent_config={'configurable': {'thread_id': '1', 'checkpoint_ns': '', 'checkpoint_id': '1f06cc6e-7232-6cb1-8000-f71609e6cec5'}}, tasks=(PregelTask(id='f7603816-878e-69ba-c98d-6e896f43fe94', name='generate_joke', path=('__pregel_pull', 'generate_joke'), error=None, interrupts=(), state=None, result=None),), interrupts=()),\n",
       " StateSnapshot(values={'topic': 'pizza'}, next=('generate_joke',), config={'configurable': {'thread_id': '1', 'checkpoint_ns': '', 'checkpoint_id': '1f06e946-0307-683c-8000-5fd3e404777e'}}, metadata={'source': 'loop', 'step': 0, 'parents': {}}, created_at='2025-08-01T04:59:59.648915+00:00', parent_config={'configurable': {'thread_id': '1', 'checkpoint_ns': '', 'checkpoint_id': '1f06e946-02ff-6ead-bfff-ce7d61e96d20'}}, tasks=(PregelTask(id='8893e285-3890-6a2a-71ee-1b75d8959dab', name='generate_joke', path=('__pregel_pull', 'generate_joke'), error='AuthenticationError(\"Error code: 401 - {\\'error\\': {\\'message\\': \\'Incorrect API key provided: sk-proj-****************************************************************************************************************************************************tc_k. You can find your API key at https://platform.openai.com/account/api-keys.\\', \\'type\\': \\'invalid_request_error\\', \\'param\\': None, \\'code\\': \\'invalid_api_key\\'}}\")', interrupts=(), state=None, result=None),), interrupts=()),\n",
       " StateSnapshot(values={}, next=('__start__',), config={'configurable': {'thread_id': '1', 'checkpoint_ns': '', 'checkpoint_id': '1f06e946-02ff-6ead-bfff-ce7d61e96d20'}}, metadata={'source': 'input', 'step': -1, 'parents': {}}, created_at='2025-08-01T04:59:59.645852+00:00', parent_config=None, tasks=(PregelTask(id='9b1827cc-ab91-bf9b-01b5-b33844d90ad8', name='__start__', path=('__pregel_pull', '__start__'), error=None, interrupts=(), state=None, result={'topic': 'pizza'}),), interrupts=())]"
      ]
     },
     "execution_count": 42,
     "metadata": {},
     "output_type": "execute_result"
    }
   ],
   "source": [
    "\n",
    "list(workflow.get_state_history(config1))"
   ]
  },
  {
   "cell_type": "code",
   "execution_count": null,
   "id": "aaace8d8",
   "metadata": {},
   "outputs": [],
   "source": [
    "\n",
    "workflow.invoke(None, {\"configurable\": {\"thread_id\": \"1\", \"checkpoint_id\": \"1f06e946-02ff-6ead-bfff-ce7d61e96d205\"}})"
   ]
  },
  {
   "cell_type": "markdown",
   "id": "4aa9d5ce",
   "metadata": {},
   "source": [
    "Fault Tolerance"
   ]
  },
  {
   "cell_type": "code",
   "execution_count": 44,
   "id": "78ebfec8",
   "metadata": {},
   "outputs": [],
   "source": [
    "from langgraph.graph import StateGraph,START,END\n",
    "from langgraph.checkpoint.memory import InMemorySaver\n",
    "from typing import TypedDict\n",
    "import time"
   ]
  },
  {
   "cell_type": "code",
   "execution_count": 45,
   "id": "33f10e9a",
   "metadata": {},
   "outputs": [],
   "source": [
    "# 1.Define the state\n",
    "class CrashState(TypedDict):\n",
    "    input : str\n",
    "    step1 : str\n",
    "    step2 : str"
   ]
  },
  {
   "cell_type": "code",
   "execution_count": 46,
   "id": "1cd93f62",
   "metadata": {},
   "outputs": [],
   "source": [
    "# 2. Define steps \n",
    "def step1(state:CrashState)->CrashState:\n",
    "    print(\"Step 1 Executed\")\n",
    "    return {\"step1\":'Done','input':state['input']}\n",
    "\n",
    "def step2(state:CrashState)->CrashState:\n",
    "    print(\"Step 2 hanging... now manually interrupt from the notebook toolbar (stop button)\")\n",
    "    time.sleep(10)\n",
    "    return {'step2':'Done'}\n",
    "\n",
    "def step3(state:CrashState)->CrashState:\n",
    "    print(\"Step 3 executed\")\n",
    "    return {\"Done\":True}"
   ]
  },
  {
   "cell_type": "code",
   "execution_count": 47,
   "id": "a1098016",
   "metadata": {},
   "outputs": [],
   "source": [
    "# Build the graph \n",
    "builder = StateGraph(CrashState)\n",
    "\n",
    "builder.add_node('step1',step1)\n",
    "builder.add_node('step2',step2)\n",
    "builder.add_node('step3',step3)\n",
    "\n",
    "builder.set_entry_point('step1')\n",
    "builder.add_edge(\"step1\",\"step2\")\n",
    "builder.add_edge('step2','step3')\n",
    "builder.add_edge('step3',END)\n",
    "\n",
    "checkpointer = InMemorySaver()\n",
    "graph = builder.compile(checkpointer=checkpointer)"
   ]
  },
  {
   "cell_type": "code",
   "execution_count": 48,
   "id": "fd44459b",
   "metadata": {},
   "outputs": [
    {
     "data": {
      "image/png": "[encoded data removed]",
      "text/plain": [
       "<langgraph.graph.state.CompiledStateGraph object at 0x000001CCCAC95E50>"
      ]
     },
     "execution_count": 48,
     "metadata": {},
     "output_type": "execute_result"
    }
   ],
   "source": [
    "graph"
   ]
  },
  {
   "cell_type": "code",
   "execution_count": 49,
   "id": "1916bf89",
   "metadata": {},
   "outputs": [
    {
     "name": "stdout",
     "output_type": "stream",
     "text": [
      "▶️ Running graph: Please manually interrupt during Step 2...\n",
      "Step 1 Executed\n",
      "Step 2 hanging... now manually interrupt from the notebook toolbar (stop button)\n",
      "❌ Kernel manually interrupted (crash simulated).\n"
     ]
    }
   ],
   "source": [
    "\n",
    "try:\n",
    "    print(\"▶️ Running graph: Please manually interrupt during Step 2...\")\n",
    "    graph.invoke({\"input\": \"start\"}, config={\"configurable\": {\"thread_id\": 'thread-1'}})\n",
    "except KeyboardInterrupt:\n",
    "    print(\"❌ Kernel manually interrupted (crash simulated).\")"
   ]
  },
  {
   "cell_type": "code",
   "execution_count": 50,
   "id": "6a835a98",
   "metadata": {},
   "outputs": [
    {
     "name": "stdout",
     "output_type": "stream",
     "text": [
      "\n",
      "🔁 Re-running the graph to demonstrate fault tolerance...\n",
      "Step 2 hanging... now manually interrupt from the notebook toolbar (stop button)\n",
      "Step 3 executed\n",
      "\n",
      "✅ Final State: {'input': 'start', 'step1': 'Done', 'step2': 'Done'}\n"
     ]
    }
   ],
   "source": [
    "\n",
    "# 6. Re-run to show fault-tolerant resume\n",
    "print(\"\\n🔁 Re-running the graph to demonstrate fault tolerance...\")\n",
    "final_state = graph.invoke(None, config={\"configurable\": {\"thread_id\": 'thread-1'}})\n",
    "print(\"\\n✅ Final State:\", final_state)"
   ]
  },
  {
   "cell_type": "code",
   "execution_count": 51,
   "id": "fda62269",
   "metadata": {},
   "outputs": [
    {
     "data": {
      "text/plain": [
       "[StateSnapshot(values={'input': 'start', 'step1': 'Done', 'step2': 'Done'}, next=(), config={'configurable': {'thread_id': 'thread-1', 'checkpoint_ns': '', 'checkpoint_id': '1f06e972-c47f-61ac-8003-6a98b03adcd7'}}, metadata={'source': 'loop', 'step': 3, 'parents': {}}, created_at='2025-08-01T05:20:01.051478+00:00', parent_config={'configurable': {'thread_id': 'thread-1', 'checkpoint_ns': '', 'checkpoint_id': '1f06e972-c47e-6104-8002-430219701df9'}}, tasks=(), interrupts=()),\n",
       " StateSnapshot(values={'input': 'start', 'step1': 'Done', 'step2': 'Done'}, next=('step3',), config={'configurable': {'thread_id': 'thread-1', 'checkpoint_ns': '', 'checkpoint_id': '1f06e972-c47e-6104-8002-430219701df9'}}, metadata={'source': 'loop', 'step': 2, 'parents': {}}, created_at='2025-08-01T05:20:01.051046+00:00', parent_config={'configurable': {'thread_id': 'thread-1', 'checkpoint_ns': '', 'checkpoint_id': '1f06e971-ab9b-6e15-8001-0a2e5ec42542'}}, tasks=(PregelTask(id='7a98427f-2d37-081a-a8c1-f773925e1333', name='step3', path=('__pregel_pull', 'step3'), error=None, interrupts=(), state=None, result={}),), interrupts=()),\n",
       " StateSnapshot(values={'input': 'start', 'step1': 'Done'}, next=('step2',), config={'configurable': {'thread_id': 'thread-1', 'checkpoint_ns': '', 'checkpoint_id': '1f06e971-ab9b-6e15-8001-0a2e5ec42542'}}, metadata={'source': 'loop', 'step': 1, 'parents': {}}, created_at='2025-08-01T05:19:31.598274+00:00', parent_config={'configurable': {'thread_id': 'thread-1', 'checkpoint_ns': '', 'checkpoint_id': '1f06e971-ab99-6ca7-8000-39806476acca'}}, tasks=(PregelTask(id='98fa5948-a23b-d9cd-c46e-d20c2157e513', name='step2', path=('__pregel_pull', 'step2'), error=None, interrupts=(), state=None, result={'step2': 'Done'}),), interrupts=()),\n",
       " StateSnapshot(values={'input': 'start'}, next=('step1',), config={'configurable': {'thread_id': 'thread-1', 'checkpoint_ns': '', 'checkpoint_id': '1f06e971-ab99-6ca7-8000-39806476acca'}}, metadata={'source': 'loop', 'step': 0, 'parents': {}}, created_at='2025-08-01T05:19:31.597420+00:00', parent_config={'configurable': {'thread_id': 'thread-1', 'checkpoint_ns': '', 'checkpoint_id': '1f06e971-ab97-6b56-bfff-4f96068004cd'}}, tasks=(PregelTask(id='9c02a626-940f-5aa6-c921-75c55c6e3e5c', name='step1', path=('__pregel_pull', 'step1'), error=None, interrupts=(), state=None, result={'step1': 'Done', 'input': 'start'}),), interrupts=()),\n",
       " StateSnapshot(values={}, next=('__start__',), config={'configurable': {'thread_id': 'thread-1', 'checkpoint_ns': '', 'checkpoint_id': '1f06e971-ab97-6b56-bfff-4f96068004cd'}}, metadata={'source': 'input', 'step': -1, 'parents': {}}, created_at='2025-08-01T05:19:31.596573+00:00', parent_config=None, tasks=(PregelTask(id='426b628b-8cbe-0145-c070-f2ac1d4facfb', name='__start__', path=('__pregel_pull', '__start__'), error=None, interrupts=(), state=None, result={'input': 'start'}),), interrupts=())]"
      ]
     },
     "execution_count": 51,
     "metadata": {},
     "output_type": "execute_result"
    }
   ],
   "source": [
    "list(graph.get_state_history({\"configurable\": {\"thread_id\": 'thread-1'}}))"
   ]
  },
  {
   "cell_type": "code",
   "execution_count": null,
   "id": "cf81257c",
   "metadata": {},
   "outputs": [],
   "source": []
  }
 ],
 "metadata": {
  "kernelspec": {
   "display_name": "myenv",
   "language": "python",
   "name": "python3"
  },
  "language_info": {
   "codemirror_mode": {
    "name": "ipython",
    "version": 3
   },
   "file_extension": ".py",
   "mimetype": "text/x-python",
   "name": "python",
   "nbconvert_exporter": "python",
   "pygments_lexer": "ipython3",
   "version": "3.13.3"
  }
 },
 "nbformat": 4,
 "nbformat_minor": 5
}
